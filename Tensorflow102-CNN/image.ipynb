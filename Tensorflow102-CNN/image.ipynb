{
  "nbformat": 4,
  "nbformat_minor": 0,
  "metadata": {
    "colab": {
      "name": "Untitled5.ipynb",
      "provenance": [],
      "authorship_tag": "ABX9TyN725Ar3AYzKyRjuXWC/riK",
      "include_colab_link": true
    },
    "kernelspec": {
      "name": "python3",
      "display_name": "Python 3"
    }
  },
  "cells": [
    {
      "cell_type": "markdown",
      "metadata": {
        "id": "view-in-github",
        "colab_type": "text"
      },
      "source": [
        "<a href=\"https://colab.research.google.com/github/rktn0905/Tensorflow-102-CNN/blob/master/image.ipynb\" target=\"_parent\"><img src=\"https://colab.research.google.com/assets/colab-badge.svg\" alt=\"Open In Colab\"/></a>"
      ]
    },
    {
      "cell_type": "markdown",
      "metadata": {
        "id": "_PhJ7Zd_PHQk"
      },
      "source": [
        "# **샘플 이미지셋**\r\n",
        "\r\n",
        "\r\n",
        "*   MNIST(흑백이미지) : 손글씨 이미지셋(6000,28,28)\r\n",
        "*   CIFAR10(컬러이미지) :10가지 분류 사물 이미지셋(50000,32,32)\r\n",
        "\r\n",
        "\r\n"
      ]
    },
    {
      "cell_type": "code",
      "metadata": {
        "id": "IV8GDIVIO7wB"
      },
      "source": [
        "import tensorflow as tf"
      ],
      "execution_count": 1,
      "outputs": []
    },
    {
      "cell_type": "code",
      "metadata": {
        "colab": {
          "base_uri": "https://localhost:8080/"
        },
        "id": "A7e6lz77PvW-",
        "outputId": "6cffa38a-ac8d-4c11-f85b-cf55d046a87f"
      },
      "source": [
        "(mnist_x, mnist_y), _ = tf.keras.datasets.mnist.load_data()\r\n",
        "print(mnist_x.shape, mnist_y.shape)\r\n",
        "\r\n",
        "(cifar_x, cifar_y), _ = tf.keras.datasets.cifar10.load_data()\r\n",
        "print(cifar_x.shape, cifar_y.shape)"
      ],
      "execution_count": 5,
      "outputs": [
        {
          "output_type": "stream",
          "text": [
            "(60000, 28, 28) (60000,)\n",
            "(50000, 32, 32, 3) (50000, 1)\n"
          ],
          "name": "stdout"
        }
      ]
    },
    {
      "cell_type": "markdown",
      "metadata": {
        "id": "Gwjchm-jU0LD"
      },
      "source": [
        "# **1. 화면 출력**"
      ]
    },
    {
      "cell_type": "code",
      "metadata": {
        "colab": {
          "base_uri": "https://localhost:8080/",
          "height": 303
        },
        "id": "-06e3oZxQvbN",
        "outputId": "56d9e76f-7f92-4018-b3aa-c7a33b1acaa3"
      },
      "source": [
        "\r\n",
        "print(mnist_y[0:10])\r\n",
        "\r\n",
        "import matplotlib.pyplot as plt\r\n",
        "plt.imshow(mnist_x[0], cmap='gray')\r\n"
      ],
      "execution_count": 12,
      "outputs": [
        {
          "output_type": "stream",
          "text": [
            "[5 0 4 1 9 2 1 3 1 4]\n"
          ],
          "name": "stdout"
        },
        {
          "output_type": "execute_result",
          "data": {
            "text/plain": [
              "<matplotlib.image.AxesImage at 0x7f58e8ebc518>"
            ]
          },
          "metadata": {
            "tags": []
          },
          "execution_count": 12
        },
        {
          "output_type": "display_data",
          "data": {
            "image/png": "[encoded data removed]",
            "text/plain": [
              "<Figure size 432x288 with 1 Axes>"
            ]
          },
          "metadata": {
            "tags": [],
            "needs_background": "light"
          }
        }
      ]
    },
    {
      "cell_type": "code",
      "metadata": {
        "colab": {
          "base_uri": "https://localhost:8080/",
          "height": 471
        },
        "id": "JxQ04p00Rofp",
        "outputId": "49e0242a-2c19-4089-c973-737c7fa0eb62"
      },
      "source": [
        "print(cifar_y[0:10])\r\n",
        "\r\n",
        "import matplotlib.pyplot as plt\r\n",
        "plt.imshow(cifar_x[0])"
      ],
      "execution_count": 15,
      "outputs": [
        {
          "output_type": "stream",
          "text": [
            "[[6]\n",
            " [9]\n",
            " [9]\n",
            " [4]\n",
            " [1]\n",
            " [1]\n",
            " [2]\n",
            " [7]\n",
            " [8]\n",
            " [3]]\n"
          ],
          "name": "stdout"
        },
        {
          "output_type": "execute_result",
          "data": {
            "text/plain": [
              "<matplotlib.image.AxesImage at 0x7f58e8af2be0>"
            ]
          },
          "metadata": {
            "tags": []
          },
          "execution_count": 15
        },
        {
          "output_type": "display_data",
          "data": {
            "image/png": "[encoded data removed]",
            "text/plain": [
              "<Figure size 432x288 with 1 Axes>"
            ]
          },
          "metadata": {
            "tags": [],
            "needs_background": "light"
          }
        }
      ]
    },
    {
      "cell_type": "markdown",
      "metadata": {
        "id": "jQz1jWS-Upr0"
      },
      "source": [
        "# **2. 차원확인**"
      ]
    },
    {
      "cell_type": "code",
      "metadata": {
        "colab": {
          "base_uri": "https://localhost:8080/"
        },
        "id": "x257trOuSSh7",
        "outputId": "d292e14d-ee25-4022-df64-4456faa9f56e"
      },
      "source": [
        "\r\n",
        "import numpy as np\r\n",
        "\r\n",
        "d1 = np.array([1,2,3,4,5])\r\n",
        "print(d1.shape)\r\n",
        "\r\n",
        "d2 = np.array([d1,d1,d1,d1])\r\n",
        "print(d2.shape)\r\n",
        "\r\n",
        "d3 = np.array([d2,d2,d2])\r\n",
        "print(d3.shape)\r\n",
        "\r\n",
        "d4 = np.array([d3,d3])\r\n",
        "print(d4.shape)"
      ],
      "execution_count": 16,
      "outputs": [
        {
          "output_type": "stream",
          "text": [
            "(5,)\n",
            "(4, 5)\n",
            "(3, 4, 5)\n",
            "(2, 3, 4, 5)\n"
          ],
          "name": "stdout"
        }
      ]
    },
    {
      "cell_type": "code",
      "metadata": {
        "colab": {
          "base_uri": "https://localhost:8080/"
        },
        "id": "v7KY-Yu6S4MT",
        "outputId": "094caea7-b128-40df-812c-29a77f942451"
      },
      "source": [
        "print(mnist_y.shape)\r\n",
        "print(cifar_y.shape)"
      ],
      "execution_count": 17,
      "outputs": [
        {
          "output_type": "stream",
          "text": [
            "(60000,)\n",
            "(50000, 1)\n"
          ],
          "name": "stdout"
        }
      ]
    },
    {
      "cell_type": "code",
      "metadata": {
        "colab": {
          "base_uri": "https://localhost:8080/"
        },
        "id": "o209veVgS_MO",
        "outputId": "8fef00b0-c342-4205-cc8d-57b8fafa2b1e"
      },
      "source": [
        "x1 = np.array([1,2,3,4,5])\r\n",
        "print(x1.shape)\r\n",
        "print(mnist_y[0:5])\r\n",
        "print(mnist_y[0:5].shape)\r\n",
        "\r\n",
        "x2 = np.array([[1,2,3,4,5],[1,2,3,4,5],[1,2,3,4,5]])\r\n",
        "print(x2.shape)\r\n",
        "\r\n",
        "x3 = np.array([[1],[2],[3],[4],[5]])\r\n",
        "print(x3.shape)\r\n",
        "print(cifar_y[0:5])\r\n",
        "print(cifar_y[0:5].shape)"
      ],
      "execution_count": 23,
      "outputs": [
        {
          "output_type": "stream",
          "text": [
            "(5,)\n",
            "[5 0 4 1 9]\n",
            "(5,)\n",
            "(3, 5)\n",
            "(5, 1)\n",
            "[[6]\n",
            " [9]\n",
            " [9]\n",
            " [4]\n",
            " [1]]\n",
            "(5, 1)\n"
          ],
          "name": "stdout"
        }
      ]
    }
  ]
}