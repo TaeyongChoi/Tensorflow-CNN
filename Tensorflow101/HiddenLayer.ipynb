{
  "nbformat": 4,
  "nbformat_minor": 0,
  "metadata": {
    "colab": {
      "name": "Untitled4.ipynb",
      "provenance": [],
      "collapsed_sections": [],
      "authorship_tag": "ABX9TyOA4v88VCc9pUxrUi6QSy59",
      "include_colab_link": true
    },
    "kernelspec": {
      "name": "python3",
      "display_name": "Python 3"
    }
  },
  "cells": [
    {
      "cell_type": "markdown",
      "metadata": {
        "id": "view-in-github",
        "colab_type": "text"
      },
      "source": [
        "<a href=\"https://colab.research.google.com/github/rktn0905/Tensorflow101/blob/main/HiddenLayer.ipynb\" target=\"_parent\"><img src=\"https://colab.research.google.com/assets/colab-badge.svg\" alt=\"Open In Colab\"/></a>"
      ]
    },
    {
      "cell_type": "markdown",
      "metadata": {
        "id": "w5-EA4TqcR3U"
      },
      "source": [
        "# **Hidden Layer**"
      ]
    },
    {
      "cell_type": "code",
      "metadata": {
        "id": "CvY-nijecRP1"
      },
      "source": [
        "import tensorflow as tf\r\n",
        "import pandas as pd"
      ],
      "execution_count": 95,
      "outputs": []
    },
    {
      "cell_type": "code",
      "metadata": {
        "colab": {
          "base_uri": "https://localhost:8080/"
        },
        "id": "ah9xdfkAcqzr",
        "outputId": "d183921e-5484-4f64-928b-5489660ea696"
      },
      "source": [
        "#데이터 준비\r\n",
        "file = 'https://raw.githubusercontent.com/blackdew/tensorflow1/master/csv/boston.csv'\r\n",
        "boston = pd.read_csv(file)\r\n",
        "print(boston.columns)"
      ],
      "execution_count": 96,
      "outputs": [
        {
          "output_type": "stream",
          "text": [
            "Index(['crim', 'zn', 'indus', 'chas', 'nox', 'rm', 'age', 'dis', 'rad', 'tax',\n",
            "       'ptratio', 'b', 'lstat', 'medv'],\n",
            "      dtype='object')\n"
          ],
          "name": "stdout"
        }
      ]
    },
    {
      "cell_type": "code",
      "metadata": {
        "colab": {
          "base_uri": "https://localhost:8080/"
        },
        "id": "TRyYhdhO1003",
        "outputId": "53da8508-31e5-44d4-ab60-d8e918b2770f"
      },
      "source": [
        "#독립 변수, 종속 변수\r\n",
        "x_var = boston [['crim', 'zn', 'indus', 'chas', 'nox', 'rm', 'age', 'dis', 'rad', 'tax', 'ptratio', 'b', 'lstat']]\r\n",
        "y_var = boston[['medv']]\r\n",
        "print(x_var.shape,y_var.shape)"
      ],
      "execution_count": 97,
      "outputs": [
        {
          "output_type": "stream",
          "text": [
            "(506, 13) (506, 1)\n"
          ],
          "name": "stdout"
        }
      ]
    },
    {
      "cell_type": "code",
      "metadata": {
        "id": "1sj1rK-X2wnK"
      },
      "source": [
        "#모델\r\n",
        "x = tf.keras.layers.Input(shape=[13])\r\n",
        "h = tf.keras.layers.Dense(10,activation='swish')(x)\r\n",
        "y = tf.keras.layers.Dense(1)(h)\r\n",
        "model = tf.keras.models.Model(x,y)\r\n",
        "model.compile(loss='mse')"
      ],
      "execution_count": 98,
      "outputs": []
    },
    {
      "cell_type": "code",
      "metadata": {
        "colab": {
          "base_uri": "https://localhost:8080/"
        },
        "id": "NH6t14XJ4Aww",
        "outputId": "894cae7d-f0ab-4250-bde6-506eb40a9b95"
      },
      "source": [
        "#모델 확인\r\n",
        "model.summary()"
      ],
      "execution_count": 99,
      "outputs": [
        {
          "output_type": "stream",
          "text": [
            "Model: \"model_12\"\n",
            "_________________________________________________________________\n",
            "Layer (type)                 Output Shape              Param #   \n",
            "=================================================================\n",
            "input_14 (InputLayer)        [(None, 13)]              0         \n",
            "_________________________________________________________________\n",
            "dense_46 (Dense)             (None, 10)                140       \n",
            "_________________________________________________________________\n",
            "dense_47 (Dense)             (None, 1)                 11        \n",
            "=================================================================\n",
            "Total params: 151\n",
            "Trainable params: 151\n",
            "Non-trainable params: 0\n",
            "_________________________________________________________________\n"
          ],
          "name": "stdout"
        }
      ]
    },
    {
      "cell_type": "code",
      "metadata": {
        "colab": {
          "base_uri": "https://localhost:8080/"
        },
        "id": "ZODBsMth3ZlH",
        "outputId": "ba650838-09b2-4d68-d0d6-9e463fe52532"
      },
      "source": [
        "#학습\r\n",
        "model.fit(x_var,y_var,epochs=200,verbose=0)"
      ],
      "execution_count": 100,
      "outputs": [
        {
          "output_type": "execute_result",
          "data": {
            "text/plain": [
              "<tensorflow.python.keras.callbacks.History at 0x7f9da8859208>"
            ]
          },
          "metadata": {
            "tags": []
          },
          "execution_count": 100
        }
      ]
    },
    {
      "cell_type": "code",
      "metadata": {
        "colab": {
          "base_uri": "https://localhost:8080/"
        },
        "id": "gGeduBhi3o6S",
        "outputId": "a11b8d3a-fb12-4d53-cd79-37aa64a95cb8"
      },
      "source": [
        "#모델을 이용해 봅시다\r\n",
        "print(model.predict(x_var[:5]))\r\n",
        "print(y_var[:5])"
      ],
      "execution_count": 101,
      "outputs": [
        {
          "output_type": "stream",
          "text": [
            "[[28.035046]\n",
            " [25.85571 ]\n",
            " [28.919716]\n",
            " [30.548592]\n",
            " [29.642275]]\n",
            "   medv\n",
            "0  24.0\n",
            "1  21.6\n",
            "2  34.7\n",
            "3  33.4\n",
            "4  36.2\n"
          ],
          "name": "stdout"
        }
      ]
    },
    {
      "cell_type": "code",
      "metadata": {
        "colab": {
          "base_uri": "https://localhost:8080/"
        },
        "id": "2aRT9Pfx4lIG",
        "outputId": "c023753f-fdc9-40db-d27a-69d49d249b45"
      },
      "source": [
        "#데이터 준비\r\n",
        "file = 'https://raw.githubusercontent.com/blackdew/tensorflow1/master/csv/iris.csv'\r\n",
        "iris = pd.read_csv(file)\r\n",
        "print(iris.columns)"
      ],
      "execution_count": 102,
      "outputs": [
        {
          "output_type": "stream",
          "text": [
            "Index(['꽃잎길이', '꽃잎폭', '꽃받침길이', '꽃받침폭', '품종'], dtype='object')\n"
          ],
          "name": "stdout"
        }
      ]
    },
    {
      "cell_type": "code",
      "metadata": {
        "id": "jjI4oMWZ7jDB",
        "colab": {
          "base_uri": "https://localhost:8080/"
        },
        "outputId": "63523930-a5ff-4a61-9f6a-cb6768a5533e"
      },
      "source": [
        "#원핫인코딩\r\n",
        "incoding = pd.get_dummies(iris)\r\n",
        "print(incoding)"
      ],
      "execution_count": 103,
      "outputs": [
        {
          "output_type": "stream",
          "text": [
            "     꽃잎길이  꽃잎폭  꽃받침길이  꽃받침폭  품종_setosa  품종_versicolor  품종_virginica\n",
            "0     5.1  3.5    1.4   0.2          1              0             0\n",
            "1     4.9  3.0    1.4   0.2          1              0             0\n",
            "2     4.7  3.2    1.3   0.2          1              0             0\n",
            "3     4.6  3.1    1.5   0.2          1              0             0\n",
            "4     5.0  3.6    1.4   0.2          1              0             0\n",
            "..    ...  ...    ...   ...        ...            ...           ...\n",
            "145   6.7  3.0    5.2   2.3          0              0             1\n",
            "146   6.3  2.5    5.0   1.9          0              0             1\n",
            "147   6.5  3.0    5.2   2.0          0              0             1\n",
            "148   6.2  3.4    5.4   2.3          0              0             1\n",
            "149   5.9  3.0    5.1   1.8          0              0             1\n",
            "\n",
            "[150 rows x 7 columns]\n"
          ],
          "name": "stdout"
        }
      ]
    },
    {
      "cell_type": "code",
      "metadata": {
        "colab": {
          "base_uri": "https://localhost:8080/"
        },
        "id": "kSDHj_LB74ZL",
        "outputId": "fd40405e-37ef-4454-a422-9e30c8a18a83"
      },
      "source": [
        "#독립 변수, 종속 변수\r\n",
        "x_var = incoding[['꽃잎길이', '꽃잎폭', '꽃받침길이', '꽃받침폭']]\r\n",
        "y_var = incoding[['품종_setosa', '품종_versicolor', '품종_virginica']]\r\n",
        "print(x_var.shape,y_var.shape)"
      ],
      "execution_count": 104,
      "outputs": [
        {
          "output_type": "stream",
          "text": [
            "(150, 4) (150, 3)\n"
          ],
          "name": "stdout"
        }
      ]
    },
    {
      "cell_type": "code",
      "metadata": {
        "id": "KrFihm3t9e3E"
      },
      "source": [
        "#모델\r\n",
        "x = tf.keras.layers.Input(shape=[4])\r\n",
        "h = tf.keras.layers.Dense(8,activation='swish')(x)\r\n",
        "h1 = tf.keras.layers.Dense(8,activation='swish')(h)\r\n",
        "h2 = tf.keras.layers.Dense(8,activation='swish')(h1)\r\n",
        "y = tf.keras.layers.Dense(3, activation='softmax')(h2)\r\n",
        "model = tf.keras.models.Model(x,y)\r\n",
        "model.compile(loss='categorical_crossentropy',metrics='accuracy')"
      ],
      "execution_count": 116,
      "outputs": []
    },
    {
      "cell_type": "code",
      "metadata": {
        "colab": {
          "base_uri": "https://localhost:8080/"
        },
        "id": "VtvvmXaIGAln",
        "outputId": "0772365c-75ce-4914-e3b9-e13d7b3bce80"
      },
      "source": [
        "#학습\r\n",
        "model.fit(x_var,y_var,epochs=1000,verbose=0)"
      ],
      "execution_count": 117,
      "outputs": [
        {
          "output_type": "execute_result",
          "data": {
            "text/plain": [
              "<tensorflow.python.keras.callbacks.History at 0x7f9da5b18dd8>"
            ]
          },
          "metadata": {
            "tags": []
          },
          "execution_count": 117
        }
      ]
    },
    {
      "cell_type": "code",
      "metadata": {
        "colab": {
          "base_uri": "https://localhost:8080/"
        },
        "id": "idRq5-MrILIi",
        "outputId": "b12827c3-7ada-4845-eb72-6cf4d8d1c5fe"
      },
      "source": [
        "# 모델 구조 확인\r\n",
        "model.summary()"
      ],
      "execution_count": 118,
      "outputs": [
        {
          "output_type": "stream",
          "text": [
            "Model: \"model_17\"\n",
            "_________________________________________________________________\n",
            "Layer (type)                 Output Shape              Param #   \n",
            "=================================================================\n",
            "input_19 (InputLayer)        [(None, 4)]               0         \n",
            "_________________________________________________________________\n",
            "dense_64 (Dense)             (None, 8)                 40        \n",
            "_________________________________________________________________\n",
            "dense_65 (Dense)             (None, 8)                 72        \n",
            "_________________________________________________________________\n",
            "dense_66 (Dense)             (None, 8)                 72        \n",
            "_________________________________________________________________\n",
            "dense_67 (Dense)             (None, 3)                 27        \n",
            "=================================================================\n",
            "Total params: 211\n",
            "Trainable params: 211\n",
            "Non-trainable params: 0\n",
            "_________________________________________________________________\n"
          ],
          "name": "stdout"
        }
      ]
    },
    {
      "cell_type": "code",
      "metadata": {
        "colab": {
          "base_uri": "https://localhost:8080/"
        },
        "id": "8lecERI6GgVG",
        "outputId": "fe14e0ac-37a2-49b4-c932-afb50808823b"
      },
      "source": [
        "#모델을 이용해 봅시다\r\n",
        "print(model.predict(x_var[0:5]))\r\n",
        "print(y_var[0:5])"
      ],
      "execution_count": 120,
      "outputs": [
        {
          "output_type": "stream",
          "text": [
            "[[9.9999678e-01 3.1737184e-06 6.1973468e-13]\n",
            " [9.9999535e-01 4.6056844e-06 2.3413415e-12]\n",
            " [9.9999547e-01 4.5496577e-06 2.6397818e-12]\n",
            " [9.9999440e-01 5.6190406e-06 4.0318365e-12]\n",
            " [9.9999678e-01 3.2239459e-06 6.6335815e-13]]\n",
            "   품종_setosa  품종_versicolor  품종_virginica\n",
            "0          1              0             0\n",
            "1          1              0             0\n",
            "2          1              0             0\n",
            "3          1              0             0\n",
            "4          1              0             0\n"
          ],
          "name": "stdout"
        }
      ]
    }
  ]
}